{
 "cells": [
  {
   "cell_type": "code",
   "execution_count": 10,
   "metadata": {},
   "outputs": [
    {
     "name": "stdout",
     "output_type": "stream",
     "text": [
      "                 0      1\n",
      "0  Badminton Court  604.5\n",
      "1       Pool Table  265.0\n",
      "2    Snooker Table  115.0\n",
      "3     Table Tennis   90.0\n"
     ]
    }
   ],
   "source": [
    "# Based on the Datacamp exersizes at https://campus.datacamp.com/courses/introduction-to-importing-data-in-python/working-with-relational-databases-in-python-3?ex=3\n",
    "# Import packages\n",
    "from sqlalchemy import create_engine\n",
    "import pandas as pd\n",
    "\n",
    "# Create engine: engine\n",
    "engine = create_engine('sqlite:///sqlite_db_pythonsqlite.db')\n",
    "\n",
    "# Open engine connection: con\n",
    "con = engine.connect()\n",
    "\n",
    "#Define query for Q10\n",
    "query = '''SELECT f.name AS facility, SUM(CASE WHEN b.memid=0 THEN f.guestcost ELSE f.membercost END) AS revenue\n",
    "FROM Bookings AS b\n",
    "LEFT JOIN Facilities AS f\n",
    "ON b.facid=f.facid\n",
    "GROUP BY f.name\n",
    "HAVING SUM(CASE WHEN b.memid=0 THEN f.guestcost ELSE f.membercost END) < 1000\n",
    "ORDER BY revenue DESC '''\n",
    "\n",
    "# Perform query: rs\n",
    "rs = con.execute(query)\n",
    "\n",
    "# Save results of the query to DataFrame: df\n",
    "df = pd.DataFrame(rs.fetchall())\n",
    "\n",
    "# Print head of DataFrame df\n",
    "print(df)"
   ]
  },
  {
   "cell_type": "code",
   "execution_count": 12,
   "metadata": {},
   "outputs": [
    {
     "name": "stdout",
     "output_type": "stream",
     "text": [
      "                           0                   1\n",
      "0              Smith, Darren                None\n",
      "1               Smith, Tracy                None\n",
      "2                Rownam, Tim                None\n",
      "3              Tracy, Burton                None\n",
      "4            Farrell, Jemima                None\n",
      "5             Farrell, David                None\n",
      "6       Tupperware, Hyacinth                None\n",
      "7              Smith, Darren                None\n",
      "8          Sarwin, Ramnaresh     Bader, Florence\n",
      "9               Coplin, Joan      Baker, Timothy\n",
      "10          Genting, Matthew     Butters, Gerald\n",
      "11            Baker, Timothy     Farrell, Jemima\n",
      "12             Pinker, David     Farrell, Jemima\n",
      "13         Rumney, Henrietta    Genting, Matthew\n",
      "14            Jones, Douglas        Jones, David\n",
      "15               Dare, Nancy    Joplette, Janice\n",
      "16              Jones, David    Joplette, Janice\n",
      "17                Hunt, John  Purview, Millicent\n",
      "18               Boothe, Tim         Rownam, Tim\n",
      "19          Joplette, Janice       Smith, Darren\n",
      "20           Butters, Gerald       Smith, Darren\n",
      "21             Owen, Charles       Smith, Darren\n",
      "22               Smith, Jack       Smith, Darren\n",
      "23           Mackenzie, Anna       Smith, Darren\n",
      "24  Worthington-Smyth, Henry        Smith, Tracy\n",
      "25        Purview, Millicent        Smith, Tracy\n",
      "26            Crumpet, Erica        Smith, Tracy\n",
      "27               Baker, Anne    Stibbons, Ponder\n",
      "28           Bader, Florence    Stibbons, Ponder\n",
      "29          Stibbons, Ponder       Tracy, Burton\n"
     ]
    }
   ],
   "source": [
    "#Define query for Q11\n",
    "query2 = '''SELECT (m.surname||\", \"||m.firstname) AS member, (mem.surname||\", \"||mem.firstname) AS recommender \n",
    "FROM Members AS m\n",
    "LEFT JOIN Members AS mem\n",
    "ON m.recommendedby=mem.memid\n",
    "WHERE m.memid!=0\n",
    "ORDER BY recommender'''\n",
    "\n",
    "rs2 = con.execute(query2)\n",
    "\n",
    "# Save results of the query to DataFrame: df2\n",
    "df2 = pd.DataFrame(rs2.fetchall())\n",
    "\n",
    "# Print head of DataFrame df\n",
    "print(df2)"
   ]
  },
  {
   "cell_type": "code",
   "execution_count": 13,
   "metadata": {},
   "outputs": [
    {
     "name": "stdout",
     "output_type": "stream",
     "text": [
      "                           0                1    2\n",
      "0              Smith, Darren     Table Tennis  261\n",
      "1               Smith, Tracy   Tennis Court 1  210\n",
      "2                Rownam, Tim   Massage Room 1  408\n",
      "3           Joplette, Janice   Massage Room 1  159\n",
      "4            Butters, Gerald   Tennis Court 1  163\n",
      "5              Tracy, Burton   Tennis Court 2  176\n",
      "6                Dare, Nancy  Badminton Court  117\n",
      "7                Boothe, Tim   Tennis Court 2  188\n",
      "8           Stibbons, Ponder   Tennis Court 2  104\n",
      "9              Owen, Charles   Tennis Court 1  131\n",
      "10              Jones, David   Tennis Court 2  115\n",
      "11               Baker, Anne   Tennis Court 1  118\n",
      "12           Farrell, Jemima     Table Tennis   80\n",
      "13               Smith, Jack   Massage Room 1   89\n",
      "14           Bader, Florence  Badminton Court  120\n",
      "15            Baker, Timothy   Tennis Court 2  166\n",
      "16             Pinker, David    Snooker Table   71\n",
      "17          Genting, Matthew   Massage Room 2   72\n",
      "18           Mackenzie, Anna  Badminton Court  126\n",
      "19              Coplin, Joan    Snooker Table   53\n",
      "20         Sarwin, Ramnaresh   Tennis Court 2   70\n",
      "21            Jones, Douglas  Badminton Court   14\n",
      "22         Rumney, Henrietta    Snooker Table   20\n",
      "23            Farrell, David   Tennis Court 1   34\n",
      "24  Worthington-Smyth, Henry  Badminton Court   41\n",
      "25        Purview, Millicent  Badminton Court   16\n",
      "26      Tupperware, Hyacinth    Snooker Table   16\n",
      "27                Hunt, John   Tennis Court 1   15\n",
      "28            Crumpet, Erica  Badminton Court    7\n"
     ]
    }
   ],
   "source": [
    "#Define query for Q12\n",
    "query3 = '''SELECT (m.surname||\", \"||m.firstname) AS member, f.name AS facility, COUNT(b.bookid) AS num_uses\n",
    "FROM Bookings AS b\n",
    "LEFT JOIN Facilities AS f\n",
    "ON b.facid=f.facid\n",
    "LEFT JOIN Members AS m\n",
    "ON b.memid=m.memid\n",
    "WHERE m.memid!=0\n",
    "GROUP BY b.memid'''\n",
    "\n",
    "rs3 = con.execute(query3)\n",
    "\n",
    "# Save results of the query to DataFrame: df3\n",
    "df3 = pd.DataFrame(rs3.fetchall())\n",
    "\n",
    "# Print head of DataFrame df\n",
    "print(df3)"
   ]
  },
  {
   "cell_type": "code",
   "execution_count": 15,
   "metadata": {},
   "outputs": [
    {
     "name": "stdout",
     "output_type": "stream",
     "text": [
      "                 0   1    2\n",
      "0       Pool Table  07  783\n",
      "1    Snooker Table  07  421\n",
      "2   Massage Room 1  07  421\n",
      "3     Table Tennis  07  385\n",
      "4  Badminton Court  07  344\n",
      "5   Tennis Court 1  07  308\n",
      "6   Tennis Court 2  07  276\n",
      "7     Squash Court  07  195\n",
      "8   Massage Room 2  07   27\n"
     ]
    }
   ],
   "source": [
    "#Define query for Q13\n",
    "query4 = '''SELECT f.name AS facility, strftime('%m',b.starttime) AS Month, COUNT(b.bookid) AS num_uses\n",
    "FROM Bookings AS b\n",
    "LEFT JOIN Facilities AS f\n",
    "ON b.facid=f.facid\n",
    "LEFT JOIN Members AS m\n",
    "ON b.memid=m.memid\n",
    "WHERE m.memid!=0\n",
    "GROUP BY b.facid\n",
    "ORDER BY num_uses DESC'''\n",
    "\n",
    "rs4 = con.execute(query4)\n",
    "\n",
    "# Save results of the query to DataFrame: df4\n",
    "df4 = pd.DataFrame(rs4.fetchall())\n",
    "\n",
    "# Print head of DataFrame df\n",
    "print(df4)"
   ]
  },
  {
   "cell_type": "code",
   "execution_count": 16,
   "metadata": {},
   "outputs": [],
   "source": [
    "# Close connection\n",
    "con.close()\n"
   ]
  },
  {
   "cell_type": "code",
   "execution_count": null,
   "metadata": {},
   "outputs": [],
   "source": []
  }
 ],
 "metadata": {
  "kernelspec": {
   "display_name": "Python 3",
   "language": "python",
   "name": "python3"
  },
  "language_info": {
   "codemirror_mode": {
    "name": "ipython",
    "version": 3
   },
   "file_extension": ".py",
   "mimetype": "text/x-python",
   "name": "python",
   "nbconvert_exporter": "python",
   "pygments_lexer": "ipython3",
   "version": "3.8.5"
  }
 },
 "nbformat": 4,
 "nbformat_minor": 4
}
